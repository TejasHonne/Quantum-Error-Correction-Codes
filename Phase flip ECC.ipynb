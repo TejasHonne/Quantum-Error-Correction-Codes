{
 "cells": [
  {
   "cell_type": "code",
   "execution_count": 1,
   "id": "c0f2650f-01e0-4048-bd5d-5c0454bdd018",
   "metadata": {
    "tags": []
   },
   "outputs": [],
   "source": [
    "# Importing standard Qiskit libraries\n",
    "from qiskit import QuantumCircuit, transpile\n",
    "from qiskit.tools.jupyter import *\n",
    "from qiskit.visualization import *\n",
    "from ibm_quantum_widgets import *\n",
    "\n",
    "# qiskit-ibmq-provider has been deprecated.\n",
    "# Please see the Migration Guides in https://ibm.biz/provider_migration_guide for more detail.\n",
    "from qiskit_ibm_runtime import QiskitRuntimeService, Sampler, Estimator, Session, Options\n",
    "\n",
    "# Loading your IBM Quantum account(s)\n",
    "service = QiskitRuntimeService(channel=\"ibm_quantum\")\n",
    "\n",
    "# Invoke a primitive. For more details see https://qiskit.org/documentation/partners/qiskit_ibm_runtime/tutorials.html\n",
    "# result = Sampler(\"ibmq_qasm_simulator\").run(circuits).result()"
   ]
  },
  {
   "cell_type": "code",
   "execution_count": 2,
   "id": "2811dcf5-ef29-46a8-bd2f-6b04205855bf",
   "metadata": {
    "tags": []
   },
   "outputs": [],
   "source": [
    "#Import all the required libraries:\n",
    "from qiskit import *\n",
    "from qiskit.tools.monitor import job_monitor\n",
    "from qiskit import Aer, QuantumCircuit, execute, ClassicalRegister, QuantumRegister, BasicAer"
   ]
  },
  {
   "cell_type": "code",
   "execution_count": 11,
   "id": "b14b8364-d2a2-4c9b-86b6-dcc30c16f9d0",
   "metadata": {
    "tags": []
   },
   "outputs": [],
   "source": [
    "#Initialise the Aer Backend\n",
    "backend = Aer.get_backend('qasm_simulator')\n",
    "#Create 3 qubits, 2 of which are ancillas for repeating the original qubit:\n",
    "qbit = QuantumRegister(3,'q')\n",
    "#One Classical bit for measurement:\n",
    "cbit = ClassicalRegister(1,'c')"
   ]
  },
  {
   "cell_type": "code",
   "execution_count": 14,
   "id": "eaa5c4ef-4178-4d4f-bc9c-69b9b7bb5334",
   "metadata": {
    "tags": []
   },
   "outputs": [
    {
     "data": {
      "text/plain": [
       "<qiskit.circuit.instructionset.InstructionSet at 0x7fda45abd360>"
      ]
     },
     "execution_count": 14,
     "metadata": {},
     "output_type": "execute_result"
    }
   ],
   "source": [
    "#Creating the circuit:\n",
    "circuit = QuantumCircuit(qbit,cbit)\n",
    "#Adding the controlled-NOT gates for qubits 0 and 1, and 0 and 2 - 0 as target.\n",
    "circuit.cx(qbit[0],qbit[1])\n",
    "circuit.cx(qbit[0],qbit[2])\n",
    "#Adding Hadamard to all qubits to create a superposition:\n",
    "circuit.h(qbit[0]) \n",
    "circuit.h(qbit[1])\n",
    "circuit.h(qbit[2])\n",
    "circuit.measure(qbit[0],cbit[0])\n"
   ]
  },
  {
   "cell_type": "code",
   "execution_count": 15,
   "id": "7310b540-a3dd-4639-98f7-dd6a41dfb5c5",
   "metadata": {
    "tags": []
   },
   "outputs": [
    {
     "name": "stdout",
     "output_type": "stream",
     "text": [
      "Job Status: job has successfully run\n",
      "{'1': 503, '0': 497}\n"
     ]
    }
   ],
   "source": [
    "job = execute(circuit, backend, shots=1000)\n",
    "job_monitor(job)\n",
    "counts = job.result().get_counts()\n",
    "print(counts)"
   ]
  },
  {
   "cell_type": "code",
   "execution_count": 17,
   "id": "c5358541-9a94-458e-a41c-ea3dea982abe",
   "metadata": {
    "tags": []
   },
   "outputs": [
    {
     "data": {
      "image/png": "[encoded data removed]",
      "text/plain": [
       "<Figure size 1541.66x367.889 with 1 Axes>"
      ]
     },
     "execution_count": 17,
     "metadata": {},
     "output_type": "execute_result"
    }
   ],
   "source": [
    "#Adding Z gate to qubit 0 to simulate a phase flip:\n",
    "circuit.z(qbit[0])\n",
    "#Re-adding Hadamard to all qubits to remove the earlier created superposition:\n",
    "circuit.h(qbit[0])\n",
    "circuit.h(qbit[1])\n",
    "circuit.h(qbit[2])\n",
    "#Re-applying the controlled-NOT gates and a Toffoli gate for error correction:\n",
    "circuit.cx(qbit[0],qbit[1])\n",
    "circuit.cx(qbit[0],qbit[2])\n",
    "circuit.ccx(qbit[2],qbit[1],qbit[0])\n",
    "#Measuring the correction:\n",
    "circuit.measure(qbit[0],cbit[0])\n",
    "circuit.draw('mpl')"
   ]
  },
  {
   "cell_type": "code",
   "execution_count": 18,
   "id": "01009462-10c7-4207-99b3-824642b1d09c",
   "metadata": {
    "tags": []
   },
   "outputs": [
    {
     "name": "stdout",
     "output_type": "stream",
     "text": [
      "Job Status: job has successfully run\n",
      "{'0': 516, '1': 484}\n"
     ]
    }
   ],
   "source": [
    "job = execute(circuit, backend, shots=1000)\n",
    "job_monitor(job)\n",
    "counts = job.result().get_counts()\n",
    "print(counts)"
   ]
  },
  {
   "cell_type": "code",
   "execution_count": null,
   "id": "784d674d-75df-45e7-ae53-10166bef808c",
   "metadata": {},
   "outputs": [],
   "source": []
  }
 ],
 "metadata": {
  "kernelspec": {
   "display_name": "Python 3 (ipykernel)",
   "language": "python",
   "name": "python3"
  },
  "language_info": {
   "codemirror_mode": {
    "name": "ipython",
    "version": 3
   },
   "file_extension": ".py",
   "mimetype": "text/x-python",
   "name": "python",
   "nbconvert_exporter": "python",
   "pygments_lexer": "ipython3",
   "version": "3.10.8"
  },
  "widgets": {
   "application/vnd.jupyter.widget-state+json": {
    "state": {
     "01922562473845c583ec4b2fae2d52a1": {
      "model_module": "@jupyter-widgets/base",
      "model_module_version": "2.0.0",
      "model_name": "LayoutModel",
      "state": {
       "width": "95px"
      }
     },
     "16dfe03034264bcda3b0071fde948323": {
      "model_module": "@jupyter-widgets/base",
      "model_module_version": "2.0.0",
      "model_name": "LayoutModel",
      "state": {
       "width": "70px"
      }
     },
     "23fa1d3a87dc465b967945b21ab419c1": {
      "model_module": "@jupyter-widgets/base",
      "model_module_version": "2.0.0",
      "model_name": "LayoutModel",
      "state": {
       "margin": "0px 0px 0px 37px",
       "width": "600px"
      }
     },
     "284bfec6ccf2477fbf0ab40804d47f21": {
      "model_module": "@jupyter-widgets/controls",
      "model_module_version": "2.0.0",
      "model_name": "HTMLModel",
      "state": {
       "layout": "IPY_MODEL_01922562473845c583ec4b2fae2d52a1",
       "style": "IPY_MODEL_5e6933ac65ac4a258bb02c9e90648e82",
       "value": "<h5>Status</h5>"
      }
     },
     "387314c1a270444ab3fd8cf926408a00": {
      "model_module": "@jupyter-widgets/controls",
      "model_module_version": "2.0.0",
      "model_name": "HTMLStyleModel",
      "state": {
       "description_width": "",
       "font_size": null,
       "text_color": null
      }
     },
     "47ab142a45be49a1b0dd1729427bf9bf": {
      "model_module": "@jupyter-widgets/controls",
      "model_module_version": "2.0.0",
      "model_name": "HTMLStyleModel",
      "state": {
       "description_width": "",
       "font_size": null,
       "text_color": null
      }
     },
     "48f96f9aa8a849ed9e2606a3270ef3db": {
      "model_module": "@jupyter-widgets/base",
      "model_module_version": "2.0.0",
      "model_name": "LayoutModel",
      "state": {
       "width": "145px"
      }
     },
     "5e6933ac65ac4a258bb02c9e90648e82": {
      "model_module": "@jupyter-widgets/controls",
      "model_module_version": "2.0.0",
      "model_name": "HTMLStyleModel",
      "state": {
       "description_width": "",
       "font_size": null,
       "text_color": null
      }
     },
     "5e9cc8da23be4c0e9e6f1530d339ee40": {
      "model_module": "@jupyter-widgets/controls",
      "model_module_version": "2.0.0",
      "model_name": "HTMLModel",
      "state": {
       "layout": "IPY_MODEL_a0e42d8ed3cc4ccd938c656eb1595b05",
       "style": "IPY_MODEL_47ab142a45be49a1b0dd1729427bf9bf",
       "value": "<p style='font-family: IBM Plex Sans, Arial, Helvetica, sans-serif; font-size: 20px; font-weight: medium;'>Circuit Properties</p>"
      }
     },
     "9afa71c3fbbb442e8b0d6df294c97ead": {
      "model_module": "@jupyter-widgets/controls",
      "model_module_version": "2.0.0",
      "model_name": "HTMLModel",
      "state": {
       "layout": "IPY_MODEL_cab82afc9b0e4163956fa68059df77f6",
       "style": "IPY_MODEL_387314c1a270444ab3fd8cf926408a00",
       "value": "<h5>Message</h5>"
      }
     },
     "a096d6b261664203a20ebdc07d51dd74": {
      "model_module": "@jupyter-widgets/controls",
      "model_module_version": "2.0.0",
      "model_name": "ButtonModel",
      "state": {
       "button_style": "primary",
       "description": "Clear",
       "layout": "IPY_MODEL_a76badcab4e347809821245152893469",
       "style": "IPY_MODEL_dc3e61477adb4cba9b036679e2cfdcb8",
       "tooltip": null
      }
     },
     "a0e42d8ed3cc4ccd938c656eb1595b05": {
      "model_module": "@jupyter-widgets/base",
      "model_module_version": "2.0.0",
      "model_name": "LayoutModel",
      "state": {
       "margin": "0px 0px 10px 0px"
      }
     },
     "a76badcab4e347809821245152893469": {
      "model_module": "@jupyter-widgets/base",
      "model_module_version": "2.0.0",
      "model_name": "LayoutModel",
      "state": {
       "grid_area": "right",
       "padding": "0px 0px 0px 0px",
       "width": "70px"
      }
     },
     "a951068287f3442799b69c152b8dff32": {
      "model_module": "@jupyter-widgets/base",
      "model_module_version": "2.0.0",
      "model_name": "LayoutModel",
      "state": {
       "grid_template_areas": "\n                                       \". . . . right \"\n                                        ",
       "grid_template_columns": "20% 20% 20% 20% 20%",
       "width": "100%"
      }
     },
     "b08ce10512554f6e938ba62a860d98b4": {
      "model_module": "@jupyter-widgets/controls",
      "model_module_version": "2.0.0",
      "model_name": "HTMLModel",
      "state": {
       "layout": "IPY_MODEL_16dfe03034264bcda3b0071fde948323",
       "style": "IPY_MODEL_d4cdf0b8a020464dac4c894ee0ac73c6",
       "value": "<h5>Queue</h5>"
      }
     },
     "b272039a8a0a4983be2723d6e1a577db": {
      "model_module": "@jupyter-widgets/base",
      "model_module_version": "2.0.0",
      "model_name": "LayoutModel",
      "state": {
       "width": "190px"
      }
     },
     "c432cb5023bd423da3b99ddf14d28009": {
      "model_module": "@jupyter-widgets/controls",
      "model_module_version": "2.0.0",
      "model_name": "HBoxModel",
      "state": {
       "children": [
        "IPY_MODEL_d5ae2f940f654e0ab2fe69b1a73760d4",
        "IPY_MODEL_fdcc7879c230498d91c49c9cae4be650",
        "IPY_MODEL_284bfec6ccf2477fbf0ab40804d47f21",
        "IPY_MODEL_b08ce10512554f6e938ba62a860d98b4",
        "IPY_MODEL_9afa71c3fbbb442e8b0d6df294c97ead"
       ],
       "layout": "IPY_MODEL_23fa1d3a87dc465b967945b21ab419c1"
      }
     },
     "cab82afc9b0e4163956fa68059df77f6": {
      "model_module": "@jupyter-widgets/base",
      "model_module_version": "2.0.0",
      "model_name": "LayoutModel",
      "state": {}
     },
     "d4cdf0b8a020464dac4c894ee0ac73c6": {
      "model_module": "@jupyter-widgets/controls",
      "model_module_version": "2.0.0",
      "model_name": "HTMLStyleModel",
      "state": {
       "description_width": "",
       "font_size": null,
       "text_color": null
      }
     },
     "d5ae2f940f654e0ab2fe69b1a73760d4": {
      "model_module": "@jupyter-widgets/controls",
      "model_module_version": "2.0.0",
      "model_name": "HTMLModel",
      "state": {
       "layout": "IPY_MODEL_b272039a8a0a4983be2723d6e1a577db",
       "style": "IPY_MODEL_ed2057d644074a3ebf1998b0693468f3",
       "value": "<h5>Job ID</h5>"
      }
     },
     "d5f8eba77fd2411f9c8f795a27553357": {
      "model_module": "@jupyter-widgets/controls",
      "model_module_version": "2.0.0",
      "model_name": "HTMLStyleModel",
      "state": {
       "description_width": "",
       "font_size": null,
       "text_color": null
      }
     },
     "dc3e61477adb4cba9b036679e2cfdcb8": {
      "model_module": "@jupyter-widgets/controls",
      "model_module_version": "2.0.0",
      "model_name": "ButtonStyleModel",
      "state": {
       "font_family": null,
       "font_size": null,
       "font_style": null,
       "font_variant": null,
       "font_weight": null,
       "text_color": null,
       "text_decoration": null
      }
     },
     "e85bed26efd848e0b6c5b7db766866b7": {
      "model_module": "@jupyter-widgets/controls",
      "model_module_version": "2.0.0",
      "model_name": "GridBoxModel",
      "state": {
       "children": [
        "IPY_MODEL_a096d6b261664203a20ebdc07d51dd74"
       ],
       "layout": "IPY_MODEL_a951068287f3442799b69c152b8dff32"
      }
     },
     "ed2057d644074a3ebf1998b0693468f3": {
      "model_module": "@jupyter-widgets/controls",
      "model_module_version": "2.0.0",
      "model_name": "HTMLStyleModel",
      "state": {
       "description_width": "",
       "font_size": null,
       "text_color": null
      }
     },
     "fdcc7879c230498d91c49c9cae4be650": {
      "model_module": "@jupyter-widgets/controls",
      "model_module_version": "2.0.0",
      "model_name": "HTMLModel",
      "state": {
       "layout": "IPY_MODEL_48f96f9aa8a849ed9e2606a3270ef3db",
       "style": "IPY_MODEL_d5f8eba77fd2411f9c8f795a27553357",
       "value": "<h5>Backend</h5>"
      }
     }
    },
    "version_major": 2,
    "version_minor": 0
   }
  }
 },
 "nbformat": 4,
 "nbformat_minor": 5
}
