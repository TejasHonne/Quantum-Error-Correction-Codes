{
 "cells": [
  {
   "cell_type": "code",
   "execution_count": 90,
   "id": "77fa2db2",
   "metadata": {},
   "outputs": [],
   "source": [
    "#Import all the required libraries:\n",
    "from qiskit import *\n",
    "from qiskit.tools.monitor import job_monitor\n",
    "from qiskit import Aer, QuantumCircuit, execute, ClassicalRegister, QuantumRegister, BasicAer"
   ]
  },
  {
   "cell_type": "code",
   "execution_count": 91,
   "id": "2353030d",
   "metadata": {},
   "outputs": [],
   "source": [
    "#Initialise the Aer Backend\n",
    "backend = Aer.get_backend('qasm_simulator')\n",
    "#Create 3 qubits, 2 of which are ancillas for repeating the original qubit:\n",
    "qbit = QuantumRegister(3,'q')\n",
    "#One Classical bit for measurement:\n",
    "cbit = ClassicalRegister(1,'c')"
   ]
  },
  {
   "cell_type": "code",
   "execution_count": 92,
   "id": "2ad8e5ee",
   "metadata": {},
   "outputs": [
    {
     "data": {
      "text/plain": [
       "<qiskit.circuit.instructionset.InstructionSet at 0x27b2d187550>"
      ]
     },
     "execution_count": 92,
     "metadata": {},
     "output_type": "execute_result"
    }
   ],
   "source": [
    "#Creating the circuit:\n",
    "circuit = QuantumCircuit(qbit,cbit)\n",
    "#Adding the controlled-NOT gates for qubits 0 and 1, and 0 and 2 - 0 as target.\n",
    "circuit.cx(qbit[0],qbit[1])\n",
    "circuit.cx(qbit[0],qbit[2])\n",
    "#Add a NOT gate to create bit flip error on the original qubit:\n",
    "circuit.x(qbit[0])\n",
    "#Measurement to show the bit flip error has occurred on original qubit:\n",
    "circuit.measure(qbit[0],cbit[0])"
   ]
  },
  {
   "cell_type": "code",
   "execution_count": 93,
   "id": "bab926d4",
   "metadata": {},
   "outputs": [
    {
     "name": "stdout",
     "output_type": "stream",
     "text": [
      "Job Status: job has successfully run\n",
      "{'1': 1000}\n"
     ]
    }
   ],
   "source": [
    "#Executing the program 1000 times:\n",
    "job = execute(circuit, backend, shots=1000)\n",
    "job_monitor(job)\n",
    "counts = job.result().get_counts()\n",
    "#Prints the measured output and the number of counts the program has been executed for:\n",
    "print(counts)"
   ]
  },
  {
   "cell_type": "code",
   "execution_count": 94,
   "id": "1f605e2c",
   "metadata": {},
   "outputs": [
    {
     "data": {
      "image/png": "[encoded data removed]",
      "text/plain": [
       "<Figure size 789.163x367.889 with 1 Axes>"
      ]
     },
     "execution_count": 94,
     "metadata": {},
     "output_type": "execute_result"
    }
   ],
   "source": [
    "#Re-applying the controlled-NOT gates and a Toffoli gate for error correction:\n",
    "circuit.cx(qbit[0],qbit[1])\n",
    "circuit.cx(qbit[0],qbit[2])\n",
    "circuit.ccx(qbit[2],qbit[1],qbit[0])\n",
    "#Measuring the correction:\n",
    "circuit.measure(qbit[0],cbit[0])\n",
    "circuit.draw('mpl')"
   ]
  },
  {
   "cell_type": "code",
   "execution_count": 95,
   "id": "6f8b4748",
   "metadata": {},
   "outputs": [
    {
     "name": "stdout",
     "output_type": "stream",
     "text": [
      "Job Status: job has successfully run\n",
      "{'0': 1000}\n"
     ]
    }
   ],
   "source": [
    "#Re-executing the program 1000 times, this time with error correction circuit:\n",
    "job = execute(circuit, backend, shots=1000)\n",
    "job_monitor(job)\n",
    "counts = job.result().get_counts()\n",
    "print(counts)"
   ]
  },
  {
   "cell_type": "code",
   "execution_count": null,
   "id": "a2b5a5d2",
   "metadata": {},
   "outputs": [],
   "source": []
  }
 ],
 "metadata": {
  "kernelspec": {
   "display_name": "Python 3 (ipykernel)",
   "language": "python",
   "name": "python3"
  },
  "language_info": {
   "codemirror_mode": {
    "name": "ipython",
    "version": 3
   },
   "file_extension": ".py",
   "mimetype": "text/x-python",
   "name": "python",
   "nbconvert_exporter": "python",
   "pygments_lexer": "ipython3",
   "version": "3.10.9"
  }
 },
 "nbformat": 4,
 "nbformat_minor": 5
}
